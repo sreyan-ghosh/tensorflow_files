{
  "nbformat": 4,
  "nbformat_minor": 0,
  "metadata": {
    "colab": {
      "name": "reinforcement_learning_tf.ipynb",
      "provenance": []
    },
    "kernelspec": {
      "name": "python3",
      "display_name": "Python 3"
    },
    "accelerator": "GPU"
  },
  "cells": [
    {
      "cell_type": "markdown",
      "metadata": {
        "id": "RQejYz147Pt3",
        "colab_type": "text"
      },
      "source": [
        "## Understanding Q Learning"
      ]
    },
    {
      "cell_type": "code",
      "metadata": {
        "id": "lGDXCrlL4eb8",
        "colab_type": "code",
        "colab": {}
      },
      "source": [
        "import gym # ai gym"
      ],
      "execution_count": 0,
      "outputs": []
    },
    {
      "cell_type": "code",
      "metadata": {
        "id": "tVw3BkMw4nc_",
        "colab_type": "code",
        "colab": {}
      },
      "source": [
        "env = gym.make('FrozenLake-v0') # something called \"Frozen Lake\" environment"
      ],
      "execution_count": 0,
      "outputs": []
    },
    {
      "cell_type": "code",
      "metadata": {
        "id": "wzG_38Zp4spx",
        "colab_type": "code",
        "colab": {
          "base_uri": "https://localhost:8080/",
          "height": 51
        },
        "outputId": "fa945405-fbbe-4339-c9a2-cc829510002a"
      },
      "source": [
        "print(env.observation_space.n) # no of states\n",
        "print(env.action_space.n) # no of states"
      ],
      "execution_count": 3,
      "outputs": [
        {
          "output_type": "stream",
          "text": [
            "16\n",
            "4\n"
          ],
          "name": "stdout"
        }
      ]
    },
    {
      "cell_type": "code",
      "metadata": {
        "id": "OEPxmskn5BLt",
        "colab_type": "code",
        "colab": {
          "base_uri": "https://localhost:8080/",
          "height": 34
        },
        "outputId": "31daca8b-b756-4e45-b04a-87c3605b22f5"
      },
      "source": [
        "env.reset()"
      ],
      "execution_count": 4,
      "outputs": [
        {
          "output_type": "execute_result",
          "data": {
            "text/plain": [
              "0"
            ]
          },
          "metadata": {
            "tags": []
          },
          "execution_count": 4
        }
      ]
    },
    {
      "cell_type": "code",
      "metadata": {
        "id": "_JwolV3i5UWi",
        "colab_type": "code",
        "colab": {}
      },
      "source": [
        "action = env.action_space.sample()"
      ],
      "execution_count": 0,
      "outputs": []
    },
    {
      "cell_type": "code",
      "metadata": {
        "id": "VxCR0ffk5ZuJ",
        "colab_type": "code",
        "colab": {}
      },
      "source": [
        "new_state, reward, done, info = env.step(action)"
      ],
      "execution_count": 0,
      "outputs": []
    },
    {
      "cell_type": "code",
      "metadata": {
        "id": "n1xhAuha5l3o",
        "colab_type": "code",
        "colab": {
          "base_uri": "https://localhost:8080/",
          "height": 102
        },
        "outputId": "86ef34a8-6a76-4144-b2e6-8253976d0c33"
      },
      "source": [
        "env.render() # render the GUI for the enviornment"
      ],
      "execution_count": 8,
      "outputs": [
        {
          "output_type": "stream",
          "text": [
            "  (Up)\n",
            "\u001b[41mS\u001b[0mFFF\n",
            "FHFH\n",
            "FFFH\n",
            "HFFG\n"
          ],
          "name": "stdout"
        }
      ]
    },
    {
      "cell_type": "markdown",
      "metadata": {
        "id": "5V6yxgY85ykj",
        "colab_type": "text"
      },
      "source": [
        "###Frozen Lake Enviornment\n",
        "Now that we have a basic understanding of how the gym enviornment works it's time to discuss the specific problem we will be solving.\n",
        "\n",
        "The enviornment we loaded above ```FrozenLake-v0``` is one of the simplest enviornments in Open AI Gym. The goal of the agent is to navigate a frozen lake and find the Goal without falling through the ice (render the enviornment above to see an example).\n",
        "\n",
        "There are:\n",
        "- 16 states (one for each square) \n",
        "- 4 possible actions (LEFT, RIGHT, DOWN, UP)\n",
        "- 4 different types of blocks (F: frozen, H: hole, S: start, G: goal)\n",
        "\n",
        "\"\"copied from TF website\"\""
      ]
    },
    {
      "cell_type": "markdown",
      "metadata": {
        "id": "rlSrJxSC6QAw",
        "colab_type": "text"
      },
      "source": [
        "## Building the Q table"
      ]
    },
    {
      "cell_type": "code",
      "metadata": {
        "id": "NP2Z7HeV5oES",
        "colab_type": "code",
        "colab": {}
      },
      "source": [
        "import gym\n",
        "import numpy as np\n",
        "import time\n",
        "\n",
        "env = gym.make('FrozenLake-v0')\n",
        "STATES = env.observation_space.n\n",
        "ACTIONS = env.action_space.n"
      ],
      "execution_count": 0,
      "outputs": []
    },
    {
      "cell_type": "code",
      "metadata": {
        "id": "MIrXKNhq6jns",
        "colab_type": "code",
        "colab": {
          "base_uri": "https://localhost:8080/",
          "height": 289
        },
        "outputId": "53bcdf6f-516b-4931-ed0d-64daabdb0da2"
      },
      "source": [
        "Q = np.zeros((STATES, ACTIONS))\n",
        "Q"
      ],
      "execution_count": 12,
      "outputs": [
        {
          "output_type": "execute_result",
          "data": {
            "text/plain": [
              "array([[0., 0., 0., 0.],\n",
              "       [0., 0., 0., 0.],\n",
              "       [0., 0., 0., 0.],\n",
              "       [0., 0., 0., 0.],\n",
              "       [0., 0., 0., 0.],\n",
              "       [0., 0., 0., 0.],\n",
              "       [0., 0., 0., 0.],\n",
              "       [0., 0., 0., 0.],\n",
              "       [0., 0., 0., 0.],\n",
              "       [0., 0., 0., 0.],\n",
              "       [0., 0., 0., 0.],\n",
              "       [0., 0., 0., 0.],\n",
              "       [0., 0., 0., 0.],\n",
              "       [0., 0., 0., 0.],\n",
              "       [0., 0., 0., 0.],\n",
              "       [0., 0., 0., 0.]])"
            ]
          },
          "metadata": {
            "tags": []
          },
          "execution_count": 12
        }
      ]
    },
    {
      "cell_type": "code",
      "metadata": {
        "id": "JMo5tMZi6qkk",
        "colab_type": "code",
        "colab": {}
      },
      "source": [
        "EPISODES = 2000\n",
        "MAX_STEPS = 100\n",
        "\n",
        "LEARNING_RATE = 0.81\n",
        "GAMMA = 0.96"
      ],
      "execution_count": 0,
      "outputs": []
    },
    {
      "cell_type": "code",
      "metadata": {
        "id": "zWKYi_T-68Vc",
        "colab_type": "code",
        "colab": {}
      },
      "source": [
        "epsilon = 0.9\n",
        "\n",
        "if np.random.uniform(0,1)<epsilon:\n",
        "    action = env.action_space.sample()\n",
        "else:\n",
        "    action = np.argmax(Q[state, :])"
      ],
      "execution_count": 0,
      "outputs": []
    },
    {
      "cell_type": "markdown",
      "metadata": {
        "id": "9dCegE8B8SB_",
        "colab_type": "text"
      },
      "source": [
        "## Assembling all together"
      ]
    },
    {
      "cell_type": "code",
      "metadata": {
        "id": "-PYWp7-67bG5",
        "colab_type": "code",
        "colab": {}
      },
      "source": [
        "import gym\n",
        "import numpy as np\n",
        "import time\n",
        "\n",
        "env = gym.make('FrozenLake-v0')\n",
        "STATES = env.observation_space.n\n",
        "ACTIONS = env.action_space.n\n",
        "\n",
        "Q = np.zeros((STATES, ACTIONS))\n",
        "\n",
        "EPISODES = 2000\n",
        "MAX_STEPS = 100\n",
        "\n",
        "LEARNING_RATE = 0.81\n",
        "GAMMA = 0.96\n",
        "\n",
        "epsilon = 0.9\n",
        "\n",
        "RENDER = False"
      ],
      "execution_count": 0,
      "outputs": []
    },
    {
      "cell_type": "code",
      "metadata": {
        "id": "ppgyYvOb76DU",
        "colab_type": "code",
        "colab": {
          "base_uri": "https://localhost:8080/",
          "height": 306
        },
        "outputId": "0021655c-d1b7-45dc-8a27-126455f6cfe9"
      },
      "source": [
        "rewards = []\n",
        "for episode in range(EPISODES):\n",
        "    \n",
        "    state = env.reset()\n",
        "    for _ in range(MAX_STEPS):\n",
        "        if RENDER:\n",
        "            env.render()\n",
        "\n",
        "        if np.random.uniform(0,1)<epsilon:\n",
        "            action = env.action_space.sample()\n",
        "        else:\n",
        "            action = np.argmax(Q[state, :])\n",
        "\n",
        "        next_state, reward, done, _ = env.step(action)\n",
        "\n",
        "        Q[state, action] = Q[state, action] + LEARNING_RATE * (reward + GAMMA * np.max(Q[next_state, :]) - Q[state, action])\n",
        "\n",
        "        state = next_state\n",
        "\n",
        "        if done:\n",
        "            rewards.append(reward)\n",
        "            epsilon -= 0.001\n",
        "            break # reached goal (G)\n",
        "        \n",
        "print(Q)\n",
        "print(f\"Average Reward: {sum(rewards)/len(rewards)}.\")"
      ],
      "execution_count": 18,
      "outputs": [
        {
          "output_type": "stream",
          "text": [
            "[[2.12144205e-01 5.28281008e-02 3.97913461e-02 5.24045462e-02]\n",
            " [9.12838626e-03 1.54393768e-03 8.01368012e-03 2.17543265e-01]\n",
            " [1.47838880e-02 8.44661861e-03 1.05753226e-02 2.24995266e-01]\n",
            " [4.78850174e-03 3.88194037e-03 6.44613324e-03 1.17404032e-01]\n",
            " [2.63860185e-01 2.87232410e-02 3.48397312e-03 3.32746482e-02]\n",
            " [0.00000000e+00 0.00000000e+00 0.00000000e+00 0.00000000e+00]\n",
            " [1.20867270e-04 7.72806585e-05 1.81634465e-03 0.00000000e+00]\n",
            " [0.00000000e+00 0.00000000e+00 0.00000000e+00 0.00000000e+00]\n",
            " [8.22320856e-03 1.40220445e-02 2.86235259e-03 5.01059457e-01]\n",
            " [1.98368179e-02 8.20801990e-01 7.91661965e-03 3.19399416e-03]\n",
            " [1.83470312e-01 7.84796401e-03 1.47611869e-03 4.66896122e-03]\n",
            " [0.00000000e+00 0.00000000e+00 0.00000000e+00 0.00000000e+00]\n",
            " [0.00000000e+00 0.00000000e+00 0.00000000e+00 0.00000000e+00]\n",
            " [4.42833914e-02 8.98821603e-02 5.60591687e-01 3.36041043e-02]\n",
            " [2.80992231e-01 7.21984766e-01 2.29363000e-01 2.73493472e-01]\n",
            " [0.00000000e+00 0.00000000e+00 0.00000000e+00 0.00000000e+00]]\n",
            "Average Reward: 0.427.\n"
          ],
          "name": "stdout"
        }
      ]
    },
    {
      "cell_type": "code",
      "metadata": {
        "id": "91x80PRI91W4",
        "colab_type": "code",
        "colab": {
          "base_uri": "https://localhost:8080/",
          "height": 279
        },
        "outputId": "6f771a11-5d11-4050-aa0b-cc02435731c7"
      },
      "source": [
        "import matplotlib.pyplot as plt\n",
        "\n",
        "def get_average(values):\n",
        "    return sum(values)/len(values)\n",
        "\n",
        "avg_rewards = []\n",
        "for i in range(0, len(rewards), 100):\n",
        "    avg_rewards.append(get_average(rewards[i:i+100]))\n",
        "\n",
        "plt.plot(avg_rewards)\n",
        "plt.ylabel('Average Reward')\n",
        "plt.xlabel('episodes (100\\'s)')\n",
        "plt.show()"
      ],
      "execution_count": 19,
      "outputs": [
        {
          "output_type": "display_data",
          "data": {
            "image/png": "[encoded data removed]",
            "text/plain": [
              "<Figure size 432x288 with 1 Axes>"
            ]
          },
          "metadata": {
            "tags": [],
            "needs_background": "light"
          }
        }
      ]
    },
    {
      "cell_type": "code",
      "metadata": {
        "id": "tIjkyfgA-g0H",
        "colab_type": "code",
        "colab": {}
      },
      "source": [
        ""
      ],
      "execution_count": 0,
      "outputs": []
    }
  ]
}