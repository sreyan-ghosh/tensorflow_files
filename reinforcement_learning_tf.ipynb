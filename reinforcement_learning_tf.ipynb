{
  "nbformat": 4,
  "nbformat_minor": 0,
  "metadata": {
    "colab": {
      "name": "reinforcement_learning_tf.ipynb",
      "provenance": []
    },
    "kernelspec": {
      "name": "python3",
      "display_name": "Python 3"
    },
    "accelerator": "GPU"
  },
  "cells": [
    {
      "cell_type": "markdown",
      "metadata": {
        "id": "RQejYz147Pt3",
        "colab_type": "text"
      },
      "source": [
        "## Understanding Q Learning"
      ]
    },
    {
      "cell_type": "code",
      "metadata": {
        "id": "lGDXCrlL4eb8",
        "colab_type": "code",
        "colab": {}
      },
      "source": [
        "import gym # ai gym"
      ],
      "execution_count": 0,
      "outputs": []
    },
    {
      "cell_type": "code",
      "metadata": {
        "id": "tVw3BkMw4nc_",
        "colab_type": "code",
        "colab": {}
      },
      "source": [
        "env = gym.make('FrozenLake-v0') # something called \"Frozen Lake\" environment"
      ],
      "execution_count": 0,
      "outputs": []
    },
    {
      "cell_type": "code",
      "metadata": {
        "id": "wzG_38Zp4spx",
        "colab_type": "code",
        "outputId": "fa945405-fbbe-4339-c9a2-cc829510002a",
        "colab": {
          "base_uri": "https://localhost:8080/",
          "height": 51
        }
      },
      "source": [
        "print(env.observation_space.n) # no of states\n",
        "print(env.action_space.n) # no of states"
      ],
      "execution_count": 0,
      "outputs": [
        {
          "output_type": "stream",
          "text": [
            "16\n",
            "4\n"
          ],
          "name": "stdout"
        }
      ]
    },
    {
      "cell_type": "code",
      "metadata": {
        "id": "OEPxmskn5BLt",
        "colab_type": "code",
        "outputId": "31daca8b-b756-4e45-b04a-87c3605b22f5",
        "colab": {
          "base_uri": "https://localhost:8080/",
          "height": 34
        }
      },
      "source": [
        "env.reset()"
      ],
      "execution_count": 0,
      "outputs": [
        {
          "output_type": "execute_result",
          "data": {
            "text/plain": [
              "0"
            ]
          },
          "metadata": {
            "tags": []
          },
          "execution_count": 4
        }
      ]
    },
    {
      "cell_type": "code",
      "metadata": {
        "id": "_JwolV3i5UWi",
        "colab_type": "code",
        "colab": {}
      },
      "source": [
        "action = env.action_space.sample()"
      ],
      "execution_count": 0,
      "outputs": []
    },
    {
      "cell_type": "code",
      "metadata": {
        "id": "VxCR0ffk5ZuJ",
        "colab_type": "code",
        "colab": {}
      },
      "source": [
        "new_state, reward, done, info = env.step(action)"
      ],
      "execution_count": 0,
      "outputs": []
    },
    {
      "cell_type": "code",
      "metadata": {
        "id": "n1xhAuha5l3o",
        "colab_type": "code",
        "outputId": "86ef34a8-6a76-4144-b2e6-8253976d0c33",
        "colab": {
          "base_uri": "https://localhost:8080/",
          "height": 102
        }
      },
      "source": [
        "env.render() # render the GUI for the enviornment"
      ],
      "execution_count": 0,
      "outputs": [
        {
          "output_type": "stream",
          "text": [
            "  (Up)\n",
            "\u001b[41mS\u001b[0mFFF\n",
            "FHFH\n",
            "FFFH\n",
            "HFFG\n"
          ],
          "name": "stdout"
        }
      ]
    },
    {
      "cell_type": "markdown",
      "metadata": {
        "id": "5V6yxgY85ykj",
        "colab_type": "text"
      },
      "source": [
        "###Frozen Lake Enviornment\n",
        "Now that we have a basic understanding of how the gym enviornment works it's time to discuss the specific problem we will be solving.\n",
        "\n",
        "The enviornment we loaded above ```FrozenLake-v0``` is one of the simplest enviornments in Open AI Gym. The goal of the agent is to navigate a frozen lake and find the Goal without falling through the ice (render the enviornment above to see an example).\n",
        "\n",
        "There are:\n",
        "- 16 states (one for each square) \n",
        "- 4 possible actions (LEFT, RIGHT, DOWN, UP)\n",
        "- 4 different types of blocks (F: frozen, H: hole, S: start, G: goal)\n",
        "\n",
        "\"\"copied from TF website\"\""
      ]
    },
    {
      "cell_type": "markdown",
      "metadata": {
        "id": "rlSrJxSC6QAw",
        "colab_type": "text"
      },
      "source": [
        "## Building the Q table"
      ]
    },
    {
      "cell_type": "code",
      "metadata": {
        "id": "NP2Z7HeV5oES",
        "colab_type": "code",
        "colab": {}
      },
      "source": [
        "import gym\n",
        "import numpy as np\n",
        "import time\n",
        "\n",
        "env = gym.make('FrozenLake-v0')\n",
        "STATES = env.observation_space.n\n",
        "ACTIONS = env.action_space.n"
      ],
      "execution_count": 0,
      "outputs": []
    },
    {
      "cell_type": "code",
      "metadata": {
        "id": "MIrXKNhq6jns",
        "colab_type": "code",
        "outputId": "53bcdf6f-516b-4931-ed0d-64daabdb0da2",
        "colab": {
          "base_uri": "https://localhost:8080/",
          "height": 289
        }
      },
      "source": [
        "Q = np.zeros((STATES, ACTIONS))\n",
        "Q"
      ],
      "execution_count": 0,
      "outputs": [
        {
          "output_type": "execute_result",
          "data": {
            "text/plain": [
              "array([[0., 0., 0., 0.],\n",
              "       [0., 0., 0., 0.],\n",
              "       [0., 0., 0., 0.],\n",
              "       [0., 0., 0., 0.],\n",
              "       [0., 0., 0., 0.],\n",
              "       [0., 0., 0., 0.],\n",
              "       [0., 0., 0., 0.],\n",
              "       [0., 0., 0., 0.],\n",
              "       [0., 0., 0., 0.],\n",
              "       [0., 0., 0., 0.],\n",
              "       [0., 0., 0., 0.],\n",
              "       [0., 0., 0., 0.],\n",
              "       [0., 0., 0., 0.],\n",
              "       [0., 0., 0., 0.],\n",
              "       [0., 0., 0., 0.],\n",
              "       [0., 0., 0., 0.]])"
            ]
          },
          "metadata": {
            "tags": []
          },
          "execution_count": 12
        }
      ]
    },
    {
      "cell_type": "code",
      "metadata": {
        "id": "JMo5tMZi6qkk",
        "colab_type": "code",
        "colab": {}
      },
      "source": [
        "EPISODES = 2000\n",
        "MAX_STEPS = 100\n",
        "\n",
        "LEARNING_RATE = 0.81\n",
        "GAMMA = 0.96"
      ],
      "execution_count": 0,
      "outputs": []
    },
    {
      "cell_type": "code",
      "metadata": {
        "id": "zWKYi_T-68Vc",
        "colab_type": "code",
        "colab": {}
      },
      "source": [
        "epsilon = 0.9\n",
        "\n",
        "if np.random.uniform(0,1)<epsilon:\n",
        "    action = env.action_space.sample()\n",
        "else:\n",
        "    action = np.argmax(Q[state, :])"
      ],
      "execution_count": 0,
      "outputs": []
    },
    {
      "cell_type": "markdown",
      "metadata": {
        "id": "9dCegE8B8SB_",
        "colab_type": "text"
      },
      "source": [
        "## Assembling all together"
      ]
    },
    {
      "cell_type": "code",
      "metadata": {
        "id": "-PYWp7-67bG5",
        "colab_type": "code",
        "colab": {}
      },
      "source": [
        "import gym\n",
        "import numpy as np\n",
        "import time\n",
        "\n",
        "env = gym.make('FrozenLake-v0')\n",
        "STATES = env.observation_space.n\n",
        "ACTIONS = env.action_space.n\n",
        "\n",
        "Q = np.zeros((STATES, ACTIONS))\n",
        "\n",
        "EPISODES = 20000\n",
        "MAX_STEPS = 100\n",
        "\n",
        "LEARNING_RATE = 0.81\n",
        "GAMMA = 0.96\n",
        "\n",
        "epsilon = 0.9\n",
        "\n",
        "RENDER = False"
      ],
      "execution_count": 0,
      "outputs": []
    },
    {
      "cell_type": "code",
      "metadata": {
        "id": "ppgyYvOb76DU",
        "colab_type": "code",
        "outputId": "7751d0d6-fbb3-491a-daea-9360259d1ac9",
        "colab": {
          "base_uri": "https://localhost:8080/",
          "height": 306
        }
      },
      "source": [
        "rewards = []\n",
        "for episode in range(EPISODES):\n",
        "    \n",
        "    state = env.reset()\n",
        "    for _ in range(MAX_STEPS):\n",
        "        if RENDER:\n",
        "            env.render()\n",
        "\n",
        "        if np.random.uniform(0,1)<epsilon:\n",
        "            action = env.action_space.sample()\n",
        "        else:\n",
        "            action = np.argmax(Q[state, :])\n",
        "\n",
        "        next_state, reward, done, _ = env.step(action)\n",
        "\n",
        "        Q[state, action] = Q[state, action] + LEARNING_RATE * (reward + GAMMA * np.max(Q[next_state, :]) - Q[state, action])\n",
        "\n",
        "        state = next_state\n",
        "\n",
        "        if done:\n",
        "            rewards.append(reward)\n",
        "            epsilon -= 0.001\n",
        "            break # reached goal (G)\n",
        "        \n",
        "print(Q)\n",
        "print(f\"Average Reward: {sum(rewards)/len(rewards)}.\")"
      ],
      "execution_count": 21,
      "outputs": [
        {
          "output_type": "stream",
          "text": [
            "[[2.86671071e-01 1.00114734e-02 1.13404209e-02 1.15803527e-02]\n",
            " [1.61939744e-03 5.73087387e-03 2.28923636e-03 2.34738873e-01]\n",
            " [4.71258600e-03 3.00218973e-03 5.82307194e-03 2.80417373e-01]\n",
            " [1.88871316e-03 3.25462108e-03 1.65652698e-03 1.74735693e-01]\n",
            " [4.58984907e-01 3.61381823e-03 4.42553868e-03 2.64134853e-03]\n",
            " [0.00000000e+00 0.00000000e+00 0.00000000e+00 0.00000000e+00]\n",
            " [2.38841093e-03 4.36564659e-07 4.52508518e-07 1.30029359e-06]\n",
            " [0.00000000e+00 0.00000000e+00 0.00000000e+00 0.00000000e+00]\n",
            " [1.94734439e-03 3.69279723e-03 5.36197385e-03 3.20169632e-01]\n",
            " [1.00822827e-03 3.71956901e-01 1.02431156e-03 2.70298487e-03]\n",
            " [5.76651121e-01 2.07204306e-04 6.25363070e-05 2.00214672e-04]\n",
            " [0.00000000e+00 0.00000000e+00 0.00000000e+00 0.00000000e+00]\n",
            " [0.00000000e+00 0.00000000e+00 0.00000000e+00 0.00000000e+00]\n",
            " [5.66215738e-02 5.98155740e-02 3.60698445e-01 3.02874474e-03]\n",
            " [7.78882876e-02 2.68818946e-01 6.88161437e-02 6.59969446e-02]\n",
            " [0.00000000e+00 0.00000000e+00 0.00000000e+00 0.00000000e+00]]\n",
            "Average Reward: 0.7048.\n"
          ],
          "name": "stdout"
        }
      ]
    },
    {
      "cell_type": "code",
      "metadata": {
        "id": "91x80PRI91W4",
        "colab_type": "code",
        "outputId": "596fdfda-b24c-4b58-b739-a056511b64ed",
        "colab": {
          "base_uri": "https://localhost:8080/",
          "height": 279
        }
      },
      "source": [
        "import matplotlib.pyplot as plt\n",
        "\n",
        "def get_average(values):\n",
        "    return sum(values)/len(values)\n",
        "\n",
        "avg_rewards = []\n",
        "for i in range(0, len(rewards), 100):\n",
        "    avg_rewards.append(get_average(rewards[i:i+100]))\n",
        "\n",
        "plt.plot(avg_rewards)\n",
        "plt.ylabel('Average Reward')\n",
        "plt.xlabel('episodes (100\\'s)')\n",
        "plt.show()"
      ],
      "execution_count": 22,
      "outputs": [
        {
          "output_type": "display_data",
          "data": {
            "image/png": "[encoded data removed]",
            "text/plain": [
              "<Figure size 432x288 with 1 Axes>"
            ]
          },
          "metadata": {
            "tags": [],
            "needs_background": "light"
          }
        }
      ]
    },
    {
      "cell_type": "code",
      "metadata": {
        "id": "tIjkyfgA-g0H",
        "colab_type": "code",
        "colab": {}
      },
      "source": [
        ""
      ],
      "execution_count": 0,
      "outputs": []
    }
  ]
}